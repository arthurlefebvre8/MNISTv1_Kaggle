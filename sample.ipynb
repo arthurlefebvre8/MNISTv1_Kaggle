{
 "cells": [
  {
   "metadata": {},
   "cell_type": "markdown",
   "source": [
    "# This is a sample Jupyter Notebook\n",
    "\n",
    "Below is an example of a code cell. \n",
    "Put your cursor into the cell and press Shift+Enter to execute it and select the next one, or click 'Run Cell' button.\n",
    "\n",
    "Press Double Shift to search everywhere for classes, files, tool windows, actions, and settings.\n",
    "\n",
    "To learn more about Jupyter Notebooks in PyCharm, see [help](https://www.jetbrains.com/help/pycharm/ipython-notebook-support.html).\n",
    "For an overview of PyCharm, go to Help -> Learn IDE features or refer to [our documentation](https://www.jetbrains.com/help/pycharm/getting-started.html)."
   ],
   "id": "8a77807f92f26ee"
  },
  {
   "metadata": {
    "ExecuteTime": {
     "end_time": "2024-11-25T14:29:44.749189Z",
     "start_time": "2024-11-25T14:29:16.874471Z"
    }
   },
   "cell_type": "code",
   "source": [
    "import tensorflow as tf\n",
    "from tensorflow.keras import datasets, layers, models\n",
    "import matplotlib.pyplot as plt\n"
   ],
   "id": "fbc121e30a2defb3",
   "outputs": [],
   "execution_count": 1
  },
  {
   "metadata": {
    "ExecuteTime": {
     "end_time": "2024-11-25T14:32:56.295595Z",
     "start_time": "2024-11-25T14:32:46.698437Z"
    }
   },
   "cell_type": "code",
   "source": [
    "import pandas as pd\n",
    "import numpy as np\n",
    "from sklearn.model_selection import train_test_split\n",
    "from tensorflow.keras.utils import to_categorical"
   ],
   "id": "4b34e07a4eb8ce79",
   "outputs": [],
   "execution_count": 2
  },
  {
   "metadata": {
    "ExecuteTime": {
     "end_time": "2024-11-25T14:32:59.788885Z",
     "start_time": "2024-11-25T14:32:58.475817Z"
    }
   },
   "cell_type": "code",
   "source": "train_df = pd.read_csv('train.csv')",
   "id": "6117dc1ac773eb1e",
   "outputs": [],
   "execution_count": 3
  },
  {
   "metadata": {
    "ExecuteTime": {
     "end_time": "2024-11-25T14:34:00.993927Z",
     "start_time": "2024-11-25T14:34:00.170983Z"
    }
   },
   "cell_type": "code",
   "source": "test_df = pd.read_csv('test.csv')",
   "id": "e4bbe9861996dccf",
   "outputs": [],
   "execution_count": 4
  },
  {
   "metadata": {},
   "cell_type": "code",
   "outputs": [],
   "execution_count": null,
   "source": "",
   "id": "aa3fc69224aefb53"
  },
  {
   "metadata": {
    "ExecuteTime": {
     "end_time": "2024-11-25T14:34:13.684367Z",
     "start_time": "2024-11-25T14:34:13.605923Z"
    }
   },
   "cell_type": "code",
   "source": [
    "# Séparer les labels et les pixels dans les données d'entraînement\n",
    "X_train = train_df.drop('label', axis=1).values\n",
    "y_train = train_df['label'].values\n",
    "\n",
    "# Pour les données de test, il se peut que vous n'ayez pas les labels\n",
    "# Si les labels sont disponibles, séparez-les de la même manière\n",
    "# Sinon, X_test = test_df.values\n",
    "X_test = test_df.drop('label', axis=1).values if 'label' in test_df.columns else test_df.values\n",
    "y_test = test_df['label'].values if 'label' in test_df.columns else None"
   ],
   "id": "33b98db40035a375",
   "outputs": [],
   "execution_count": 5
  },
  {
   "metadata": {
    "ExecuteTime": {
     "end_time": "2024-11-25T14:34:24.541695Z",
     "start_time": "2024-11-25T14:34:24.403464Z"
    }
   },
   "cell_type": "code",
   "source": [
    "X_train = X_train.astype('float32') / 255.0\n",
    "X_test = X_test.astype('float32') / 255.0\n"
   ],
   "id": "ffcd0f74d4220bc6",
   "outputs": [],
   "execution_count": 6
  },
  {
   "metadata": {
    "ExecuteTime": {
     "end_time": "2024-11-25T14:34:57.923166Z",
     "start_time": "2024-11-25T14:34:57.529546Z"
    }
   },
   "cell_type": "code",
   "source": [
    "# Reshaper en (nombre d'échantillons, hauteur, largeur, canaux)\n",
    "X_train = X_train.reshape(-1, 28, 28, 1)\n",
    "X_test = X_test.reshape(-1, 28, 28, 1)\n",
    "y_train = to_categorical(y_train, 10)\n",
    "if y_test is not None:\n",
    "    y_test = to_categorical(y_test, 10)\n",
    "    \n",
    "    \n",
    "X_train, X_val, y_train, y_val = train_test_split(\n",
    "    X_train, y_train, test_size=0.1, random_state=42\n",
    ")"
   ],
   "id": "65736eee2efdc1cb",
   "outputs": [],
   "execution_count": 7
  },
  {
   "metadata": {
    "ExecuteTime": {
     "end_time": "2024-11-25T14:35:18.385176Z",
     "start_time": "2024-11-25T14:35:18.211839Z"
    }
   },
   "cell_type": "code",
   "source": [
    "model = models.Sequential()\n",
    "\n",
    "# Première couche de convolution\n",
    "model.add(layers.Conv2D(32, (3, 3), activation='relu', input_shape=(28, 28, 1)))\n",
    "model.add(layers.MaxPooling2D((2, 2)))\n",
    "model.add(layers.Dropout(0.25))\n",
    "\n",
    "# Deuxième couche de convolution\n",
    "model.add(layers.Conv2D(64, (3, 3), activation='relu'))\n",
    "model.add(layers.MaxPooling2D((2, 2)))\n",
    "model.add(layers.Dropout(0.25))\n",
    "\n",
    "# Troisième couche de convolution\n",
    "model.add(layers.Conv2D(128, (3, 3), activation='relu'))\n",
    "model.add(layers.Dropout(0.4))\n",
    "\n",
    "# Couche entièrement connectée\n",
    "model.add(layers.Flatten())\n",
    "model.add(layers.Dense(128, activation='relu'))\n",
    "model.add(layers.Dropout(0.5))\n",
    "model.add(layers.Dense(10, activation='softmax'))\n"
   ],
   "id": "c01aec469aa2eb1b",
   "outputs": [
    {
     "name": "stderr",
     "output_type": "stream",
     "text": [
      "C:\\Users\\arthu\\miniconda3\\Lib\\site-packages\\keras\\src\\layers\\convolutional\\base_conv.py:107: UserWarning: Do not pass an `input_shape`/`input_dim` argument to a layer. When using Sequential models, prefer using an `Input(shape)` object as the first layer in the model instead.\n",
      "  super().__init__(activity_regularizer=activity_regularizer, **kwargs)\n"
     ]
    }
   ],
   "execution_count": 8
  },
  {
   "metadata": {
    "ExecuteTime": {
     "end_time": "2024-11-25T14:36:10.820106Z",
     "start_time": "2024-11-25T14:36:10.806278Z"
    }
   },
   "cell_type": "code",
   "source": [
    "model.compile(optimizer='adam',\n",
    "              loss='categorical_crossentropy',\n",
    "              metrics=['accuracy'])\n",
    "from tensorflow.keras.callbacks import EarlyStopping, ReduceLROnPlateau\n",
    "\n",
    "early_stopping = EarlyStopping(monitor='val_loss', patience=5, restore_best_weights=True)\n",
    "reduce_lr = ReduceLROnPlateau(monitor='val_loss', factor=0.2, patience=3, min_lr=0.0001)\n",
    "\n",
    "    "
   ],
   "id": "ccbe14c3d2c66391",
   "outputs": [],
   "execution_count": 9
  },
  {
   "metadata": {
    "ExecuteTime": {
     "end_time": "2024-11-25T14:39:06.152821Z",
     "start_time": "2024-11-25T14:36:26.846468Z"
    }
   },
   "cell_type": "code",
   "source": [
    "history = model.fit(\n",
    "    X_train, y_train,\n",
    "    epochs=50,\n",
    "    batch_size=64,\n",
    "    validation_data=(X_val, y_val),\n",
    "    callbacks=[early_stopping, reduce_lr]\n",
    ")\n"
   ],
   "id": "b54c83cb880e39b0",
   "outputs": [
    {
     "name": "stdout",
     "output_type": "stream",
     "text": [
      "Epoch 1/50\n",
      "\u001B[1m591/591\u001B[0m \u001B[32m━━━━━━━━━━━━━━━━━━━━\u001B[0m\u001B[37m\u001B[0m \u001B[1m7s\u001B[0m 9ms/step - accuracy: 0.7228 - loss: 0.8220 - val_accuracy: 0.9726 - val_loss: 0.0839 - learning_rate: 0.0010\n",
      "Epoch 2/50\n",
      "\u001B[1m591/591\u001B[0m \u001B[32m━━━━━━━━━━━━━━━━━━━━\u001B[0m\u001B[37m\u001B[0m \u001B[1m5s\u001B[0m 9ms/step - accuracy: 0.9576 - loss: 0.1357 - val_accuracy: 0.9814 - val_loss: 0.0548 - learning_rate: 0.0010\n",
      "Epoch 3/50\n",
      "\u001B[1m591/591\u001B[0m \u001B[32m━━━━━━━━━━━━━━━━━━━━\u001B[0m\u001B[37m\u001B[0m \u001B[1m6s\u001B[0m 11ms/step - accuracy: 0.9707 - loss: 0.0948 - val_accuracy: 0.9862 - val_loss: 0.0424 - learning_rate: 0.0010\n",
      "Epoch 4/50\n",
      "\u001B[1m591/591\u001B[0m \u001B[32m━━━━━━━━━━━━━━━━━━━━\u001B[0m\u001B[37m\u001B[0m \u001B[1m6s\u001B[0m 9ms/step - accuracy: 0.9765 - loss: 0.0762 - val_accuracy: 0.9867 - val_loss: 0.0421 - learning_rate: 0.0010\n",
      "Epoch 5/50\n",
      "\u001B[1m591/591\u001B[0m \u001B[32m━━━━━━━━━━━━━━━━━━━━\u001B[0m\u001B[37m\u001B[0m \u001B[1m6s\u001B[0m 10ms/step - accuracy: 0.9805 - loss: 0.0668 - val_accuracy: 0.9879 - val_loss: 0.0466 - learning_rate: 0.0010\n",
      "Epoch 6/50\n",
      "\u001B[1m591/591\u001B[0m \u001B[32m━━━━━━━━━━━━━━━━━━━━\u001B[0m\u001B[37m\u001B[0m \u001B[1m6s\u001B[0m 10ms/step - accuracy: 0.9824 - loss: 0.0583 - val_accuracy: 0.9898 - val_loss: 0.0335 - learning_rate: 0.0010\n",
      "Epoch 7/50\n",
      "\u001B[1m591/591\u001B[0m \u001B[32m━━━━━━━━━━━━━━━━━━━━\u001B[0m\u001B[37m\u001B[0m \u001B[1m6s\u001B[0m 10ms/step - accuracy: 0.9823 - loss: 0.0577 - val_accuracy: 0.9912 - val_loss: 0.0310 - learning_rate: 0.0010\n",
      "Epoch 8/50\n",
      "\u001B[1m591/591\u001B[0m \u001B[32m━━━━━━━━━━━━━━━━━━━━\u001B[0m\u001B[37m\u001B[0m \u001B[1m6s\u001B[0m 11ms/step - accuracy: 0.9839 - loss: 0.0528 - val_accuracy: 0.9883 - val_loss: 0.0315 - learning_rate: 0.0010\n",
      "Epoch 9/50\n",
      "\u001B[1m591/591\u001B[0m \u001B[32m━━━━━━━━━━━━━━━━━━━━\u001B[0m\u001B[37m\u001B[0m \u001B[1m6s\u001B[0m 10ms/step - accuracy: 0.9862 - loss: 0.0444 - val_accuracy: 0.9910 - val_loss: 0.0312 - learning_rate: 0.0010\n",
      "Epoch 10/50\n",
      "\u001B[1m591/591\u001B[0m \u001B[32m━━━━━━━━━━━━━━━━━━━━\u001B[0m\u001B[37m\u001B[0m \u001B[1m6s\u001B[0m 10ms/step - accuracy: 0.9865 - loss: 0.0437 - val_accuracy: 0.9919 - val_loss: 0.0257 - learning_rate: 0.0010\n",
      "Epoch 11/50\n",
      "\u001B[1m591/591\u001B[0m \u001B[32m━━━━━━━━━━━━━━━━━━━━\u001B[0m\u001B[37m\u001B[0m \u001B[1m6s\u001B[0m 10ms/step - accuracy: 0.9884 - loss: 0.0393 - val_accuracy: 0.9917 - val_loss: 0.0305 - learning_rate: 0.0010\n",
      "Epoch 12/50\n",
      "\u001B[1m591/591\u001B[0m \u001B[32m━━━━━━━━━━━━━━━━━━━━\u001B[0m\u001B[37m\u001B[0m \u001B[1m6s\u001B[0m 10ms/step - accuracy: 0.9891 - loss: 0.0369 - val_accuracy: 0.9910 - val_loss: 0.0267 - learning_rate: 0.0010\n",
      "Epoch 13/50\n",
      "\u001B[1m591/591\u001B[0m \u001B[32m━━━━━━━━━━━━━━━━━━━━\u001B[0m\u001B[37m\u001B[0m \u001B[1m6s\u001B[0m 10ms/step - accuracy: 0.9890 - loss: 0.0364 - val_accuracy: 0.9919 - val_loss: 0.0274 - learning_rate: 0.0010\n",
      "Epoch 14/50\n",
      "\u001B[1m591/591\u001B[0m \u001B[32m━━━━━━━━━━━━━━━━━━━━\u001B[0m\u001B[37m\u001B[0m \u001B[1m6s\u001B[0m 10ms/step - accuracy: 0.9908 - loss: 0.0281 - val_accuracy: 0.9929 - val_loss: 0.0249 - learning_rate: 2.0000e-04\n",
      "Epoch 15/50\n",
      "\u001B[1m591/591\u001B[0m \u001B[32m━━━━━━━━━━━━━━━━━━━━\u001B[0m\u001B[37m\u001B[0m \u001B[1m6s\u001B[0m 11ms/step - accuracy: 0.9924 - loss: 0.0252 - val_accuracy: 0.9936 - val_loss: 0.0246 - learning_rate: 2.0000e-04\n",
      "Epoch 16/50\n",
      "\u001B[1m591/591\u001B[0m \u001B[32m━━━━━━━━━━━━━━━━━━━━\u001B[0m\u001B[37m\u001B[0m \u001B[1m7s\u001B[0m 11ms/step - accuracy: 0.9929 - loss: 0.0237 - val_accuracy: 0.9924 - val_loss: 0.0253 - learning_rate: 2.0000e-04\n",
      "Epoch 17/50\n",
      "\u001B[1m591/591\u001B[0m \u001B[32m━━━━━━━━━━━━━━━━━━━━\u001B[0m\u001B[37m\u001B[0m \u001B[1m7s\u001B[0m 12ms/step - accuracy: 0.9928 - loss: 0.0227 - val_accuracy: 0.9936 - val_loss: 0.0223 - learning_rate: 2.0000e-04\n",
      "Epoch 18/50\n",
      "\u001B[1m591/591\u001B[0m \u001B[32m━━━━━━━━━━━━━━━━━━━━\u001B[0m\u001B[37m\u001B[0m \u001B[1m7s\u001B[0m 11ms/step - accuracy: 0.9919 - loss: 0.0229 - val_accuracy: 0.9943 - val_loss: 0.0216 - learning_rate: 2.0000e-04\n",
      "Epoch 19/50\n",
      "\u001B[1m591/591\u001B[0m \u001B[32m━━━━━━━━━━━━━━━━━━━━\u001B[0m\u001B[37m\u001B[0m \u001B[1m6s\u001B[0m 11ms/step - accuracy: 0.9936 - loss: 0.0209 - val_accuracy: 0.9948 - val_loss: 0.0214 - learning_rate: 2.0000e-04\n",
      "Epoch 20/50\n",
      "\u001B[1m591/591\u001B[0m \u001B[32m━━━━━━━━━━━━━━━━━━━━\u001B[0m\u001B[37m\u001B[0m \u001B[1m6s\u001B[0m 11ms/step - accuracy: 0.9936 - loss: 0.0206 - val_accuracy: 0.9955 - val_loss: 0.0204 - learning_rate: 2.0000e-04\n",
      "Epoch 21/50\n",
      "\u001B[1m591/591\u001B[0m \u001B[32m━━━━━━━━━━━━━━━━━━━━\u001B[0m\u001B[37m\u001B[0m \u001B[1m7s\u001B[0m 12ms/step - accuracy: 0.9944 - loss: 0.0190 - val_accuracy: 0.9943 - val_loss: 0.0218 - learning_rate: 2.0000e-04\n",
      "Epoch 22/50\n",
      "\u001B[1m591/591\u001B[0m \u001B[32m━━━━━━━━━━━━━━━━━━━━\u001B[0m\u001B[37m\u001B[0m \u001B[1m8s\u001B[0m 13ms/step - accuracy: 0.9942 - loss: 0.0195 - val_accuracy: 0.9955 - val_loss: 0.0218 - learning_rate: 2.0000e-04\n",
      "Epoch 23/50\n",
      "\u001B[1m591/591\u001B[0m \u001B[32m━━━━━━━━━━━━━━━━━━━━\u001B[0m\u001B[37m\u001B[0m \u001B[1m8s\u001B[0m 13ms/step - accuracy: 0.9950 - loss: 0.0151 - val_accuracy: 0.9945 - val_loss: 0.0220 - learning_rate: 2.0000e-04\n",
      "Epoch 24/50\n",
      "\u001B[1m591/591\u001B[0m \u001B[32m━━━━━━━━━━━━━━━━━━━━\u001B[0m\u001B[37m\u001B[0m \u001B[1m7s\u001B[0m 12ms/step - accuracy: 0.9947 - loss: 0.0175 - val_accuracy: 0.9952 - val_loss: 0.0216 - learning_rate: 1.0000e-04\n",
      "Epoch 25/50\n",
      "\u001B[1m591/591\u001B[0m \u001B[32m━━━━━━━━━━━━━━━━━━━━\u001B[0m\u001B[37m\u001B[0m \u001B[1m7s\u001B[0m 12ms/step - accuracy: 0.9938 - loss: 0.0181 - val_accuracy: 0.9955 - val_loss: 0.0211 - learning_rate: 1.0000e-04\n"
     ]
    }
   ],
   "execution_count": 10
  },
  {
   "metadata": {
    "ExecuteTime": {
     "end_time": "2024-11-25T14:39:21.531896Z",
     "start_time": "2024-11-25T14:39:21.239354Z"
    }
   },
   "cell_type": "code",
   "source": [
    "val_loss, val_acc = model.evaluate(X_val, y_val, verbose=2)\n",
    "print(f'\\nPrécision sur les données de validation : {val_acc:.4f}')\n",
    "if y_test is not None:\n",
    "    test_loss, test_acc = model.evaluate(X_test, y_test, verbose=2)\n",
    "    print(f'\\nPrécision sur les données de test : {test_acc:.4f}')"
   ],
   "id": "62e766abf314e942",
   "outputs": [
    {
     "name": "stdout",
     "output_type": "stream",
     "text": [
      "132/132 - 0s - 2ms/step - accuracy: 0.9955 - loss: 0.0204\n",
      "\n",
      "Précision sur les données de validation : 0.9955\n"
     ]
    }
   ],
   "execution_count": 11
  },
  {
   "metadata": {
    "ExecuteTime": {
     "end_time": "2024-11-25T14:40:54.310411Z",
     "start_time": "2024-11-25T14:40:54.258306Z"
    }
   },
   "cell_type": "code",
   "source": "model.save('mnist_cnn_model.h5')",
   "id": "1b7698c630a8e166",
   "outputs": [
    {
     "name": "stderr",
     "output_type": "stream",
     "text": [
      "WARNING:absl:You are saving your model as an HDF5 file via `model.save()` or `keras.saving.save_model(model)`. This file format is considered legacy. We recommend using instead the native Keras format, e.g. `model.save('my_model.keras')` or `keras.saving.save_model(model, 'my_model.keras')`. \n"
     ]
    }
   ],
   "execution_count": 12
  },
  {
   "metadata": {},
   "cell_type": "code",
   "outputs": [],
   "execution_count": null,
   "source": "",
   "id": "16a21e674598a947"
  },
  {
   "metadata": {
    "ExecuteTime": {
     "end_time": "2024-11-25T14:41:17.993386Z",
     "start_time": "2024-11-25T14:41:15.802694Z"
    }
   },
   "cell_type": "code",
   "source": [
    "predictions = model.predict(X_test)\n",
    "predicted_labels = np.argmax(predictions, axis=1)\n",
    "\n",
    "# Créer le DataFrame de soumission\n",
    "image_ids = np.arange(1, len(predicted_labels) + 1)\n",
    "submission_df = pd.DataFrame({\n",
    "    'ImageId': image_ids,\n",
    "    'Label': predicted_labels\n",
    "})\n",
    "\n",
    "# Sauvegarder le fichier de soumission\n",
    "submission_df.to_csv('submission.csv', index=False)\n",
    "\n",
    "# Vérifier les premières lignes du fichier de soumission\n",
    "print(submission_df.head())"
   ],
   "id": "d283442a1ecc1cb9",
   "outputs": [
    {
     "name": "stdout",
     "output_type": "stream",
     "text": [
      "\u001B[1m875/875\u001B[0m \u001B[32m━━━━━━━━━━━━━━━━━━━━\u001B[0m\u001B[37m\u001B[0m \u001B[1m2s\u001B[0m 2ms/step\n",
      "   ImageId  Label\n",
      "0        1      2\n",
      "1        2      0\n",
      "2        3      9\n",
      "3        4      9\n",
      "4        5      3\n"
     ]
    }
   ],
   "execution_count": 13
  }
 ],
 "metadata": {
  "kernelspec": {
   "display_name": "Python 3",
   "language": "python",
   "name": "python3"
  },
  "language_info": {
   "codemirror_mode": {
    "name": "ipython",
    "version": 2
   },
   "file_extension": ".py",
   "mimetype": "text/x-python",
   "name": "python",
   "nbconvert_exporter": "python",
   "pygments_lexer": "ipython2",
   "version": "2.7.6"
  }
 },
 "nbformat": 4,
 "nbformat_minor": 5
}
